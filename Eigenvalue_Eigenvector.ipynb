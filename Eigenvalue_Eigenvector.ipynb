{
 "cells": [
  {
   "cell_type": "code",
   "execution_count": 1,
   "metadata": {},
   "outputs": [
    {
     "name": "stdout",
     "output_type": "stream",
     "text": [
      "Printing the Matrix:\n",
      " [[1 2 3]\n",
      " [2 3 4]\n",
      " [5 6 7]]\n",
      "Eigen values of the matrix:\n",
      " [ 1.20000000e+01 -1.00000000e+00 -7.75237598e-17]\n",
      "Eigenvectors of the matrix:\n",
      " [[ 0.30996521  0.66666667  0.40824829]\n",
      " [ 0.44280744  0.33333333 -0.81649658]\n",
      " [ 0.84133414 -0.66666667  0.40824829]]\n"
     ]
    }
   ],
   "source": [
    "import numpy as np#importing library\n",
    "\n",
    "mat = np.array([[1, 2,3], [2, 3,4],[5,6,7]]) #create the matrix\n",
    "print(\"Printing the Matrix:\\n\",mat) \n",
    "\n",
    "x,y = np.linalg.eig(mat) #to find eigen values and eigen vectors  \n",
    "\n",
    "print(\"Eigen values of the matrix:\\n\",x)# for eigen values  \n",
    "print(\"Eigenvectors of the matrix:\\n\",y)# for eigen vectors"
   ]
  },
  {
   "cell_type": "code",
   "execution_count": 9,
   "metadata": {},
   "outputs": [
    {
     "name": "stdout",
     "output_type": "stream",
     "text": [
      "Singular Values(lambda): [11.48047147  1.09488579]\n",
      "\n",
      "Left Singular Vectors(U): \n",
      " [[-0.4444721  0.8957927]\n",
      " [-0.8957927 -0.4444721]]\n",
      "\n",
      "Right Singular Vectors(VTrans): \n",
      " [[-0.89582512  0.4372279  -0.07955573]\n",
      " [-0.35082556 -0.80565087 -0.47733437]\n",
      " [-0.27279805 -0.39969794  0.87511301]]\n"
     ]
    }
   ],
   "source": [
    "# Using singular Value Decomposition\n",
    "import numpy as np\n",
    "\n",
    "#non-square matrix\n",
    "A = np.array([[5, 1, 1], [9, 4, 3]])\n",
    "# Using SVD\n",
    "U, S, VTrans = np.linalg.svd(A)\n",
    "# Singular values\n",
    "singular_values = S\n",
    "# Left singular vectors : eigen values of A and A transpose\n",
    "left_singular_vectors = U\n",
    "# Right singular vectors : eigen values of A transpose and A\n",
    "right_singular_vectors = VTrans.T\n",
    "\n",
    "print(\"Singular Values(lambda):\",singular_values)\n",
    "print(\"\\nLeft Singular Vectors(U):\",'\\n',left_singular_vectors)\n",
    "print(\"\\nRight Singular Vectors(VTrans):\",'\\n',right_singular_vectors)\n"
   ]
  },
  {
   "cell_type": "code",
   "execution_count": null,
   "metadata": {},
   "outputs": [],
   "source": []
  }
 ],
 "metadata": {
  "kernelspec": {
   "display_name": "base",
   "language": "python",
   "name": "python3"
  },
  "language_info": {
   "codemirror_mode": {
    "name": "ipython",
    "version": 3
   },
   "file_extension": ".py",
   "mimetype": "text/x-python",
   "name": "python",
   "nbconvert_exporter": "python",
   "pygments_lexer": "ipython3",
   "version": "3.10.9"
  },
  "orig_nbformat": 4
 },
 "nbformat": 4,
 "nbformat_minor": 2
}
